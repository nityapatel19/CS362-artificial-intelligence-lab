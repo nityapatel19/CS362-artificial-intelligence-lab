{
 "cells": [
  {
   "cell_type": "code",
   "execution_count": 43,
   "metadata": {
    "collapsed": true,
    "ExecuteTime": {
     "start_time": "2023-04-23T20:12:10.385950Z",
     "end_time": "2023-04-23T20:12:12.287736Z"
    }
   },
   "outputs": [
    {
     "name": "stderr",
     "output_type": "stream",
     "text": [
      "C:\\Program Files\\Miniconda3\\envs\\ai\\lib\\site-packages\\PIL\\Image.py:125: RuntimeWarning: The _imaging extension was built for another version of Pillow or PIL:\n",
      "Core version: 9.5.0\n",
      "Pillow version: 9.4.0\n",
      "  warnings.warn(str(v), RuntimeWarning)\n"
     ]
    },
    {
     "ename": "ImportError",
     "evalue": "The _imaging extension was built for another version of Pillow or PIL:\nCore version: 9.5.0\nPillow version: 9.4.0",
     "output_type": "error",
     "traceback": [
      "\u001B[1;31m---------------------------------------------------------------------------\u001B[0m",
      "\u001B[1;31mImportError\u001B[0m                               Traceback (most recent call last)",
      "Cell \u001B[1;32mIn[43], line 3\u001B[0m\n\u001B[0;32m      1\u001B[0m \u001B[38;5;28;01mfrom\u001B[39;00m \u001B[38;5;21;01menum\u001B[39;00m \u001B[38;5;28;01mimport\u001B[39;00m Enum\n\u001B[0;32m      2\u001B[0m \u001B[38;5;28;01mimport\u001B[39;00m \u001B[38;5;21;01mnumpy\u001B[39;00m \u001B[38;5;28;01mas\u001B[39;00m \u001B[38;5;21;01mnp\u001B[39;00m\n\u001B[1;32m----> 3\u001B[0m \u001B[38;5;28;01mimport\u001B[39;00m \u001B[38;5;21;01mmatplotlib\u001B[39;00m\u001B[38;5;21;01m.\u001B[39;00m\u001B[38;5;21;01mpyplot\u001B[39;00m \u001B[38;5;28;01mas\u001B[39;00m \u001B[38;5;21;01mplt\u001B[39;00m\n",
      "File \u001B[1;32mC:\\Program Files\\Miniconda3\\envs\\ai\\lib\\site-packages\\matplotlib\\__init__.py:148\u001B[0m\n\u001B[0;32m    134\u001B[0m \u001B[38;5;28;01mfrom\u001B[39;00m \u001B[38;5;21;01mmatplotlib\u001B[39;00m\u001B[38;5;21;01m.\u001B[39;00m\u001B[38;5;21;01mrcsetup\u001B[39;00m \u001B[38;5;28;01mimport\u001B[39;00m validate_backend, cycler\n\u001B[0;32m    137\u001B[0m _log \u001B[38;5;241m=\u001B[39m logging\u001B[38;5;241m.\u001B[39mgetLogger(\u001B[38;5;18m__name__\u001B[39m)\n\u001B[0;32m    139\u001B[0m __bibtex__ \u001B[38;5;241m=\u001B[39m \u001B[38;5;124mr\u001B[39m\u001B[38;5;124m\"\"\"\u001B[39m\u001B[38;5;124m@Article\u001B[39m\u001B[38;5;124m{\u001B[39m\u001B[38;5;124mHunter:2007,\u001B[39m\n\u001B[0;32m    140\u001B[0m \u001B[38;5;124m  Author    = \u001B[39m\u001B[38;5;124m{\u001B[39m\u001B[38;5;124mHunter, J. D.},\u001B[39m\n\u001B[0;32m    141\u001B[0m \u001B[38;5;124m  Title     = \u001B[39m\u001B[38;5;124m{\u001B[39m\u001B[38;5;124mMatplotlib: A 2D graphics environment},\u001B[39m\n\u001B[0;32m    142\u001B[0m \u001B[38;5;124m  Journal   = \u001B[39m\u001B[38;5;124m{\u001B[39m\u001B[38;5;124mComputing in Science \u001B[39m\u001B[38;5;124m\\\u001B[39m\u001B[38;5;124m& Engineering},\u001B[39m\n\u001B[0;32m    143\u001B[0m \u001B[38;5;124m  Volume    = \u001B[39m\u001B[38;5;132;01m{9}\u001B[39;00m\u001B[38;5;124m,\u001B[39m\n\u001B[0;32m    144\u001B[0m \u001B[38;5;124m  Number    = \u001B[39m\u001B[38;5;132;01m{3}\u001B[39;00m\u001B[38;5;124m,\u001B[39m\n\u001B[0;32m    145\u001B[0m \u001B[38;5;124m  Pages     = \u001B[39m\u001B[38;5;124m{\u001B[39m\u001B[38;5;124m90--95},\u001B[39m\n\u001B[0;32m    146\u001B[0m \u001B[38;5;124m  abstract  = \u001B[39m\u001B[38;5;124m{\u001B[39m\u001B[38;5;124mMatplotlib is a 2D graphics package used for Python\u001B[39m\n\u001B[0;32m    147\u001B[0m \u001B[38;5;124m  for application development, interactive scripting, and\u001B[39m\n\u001B[1;32m--> 148\u001B[0m \u001B[38;5;124m  publication-quality image generation across user\u001B[39m\n\u001B[0;32m    149\u001B[0m \u001B[38;5;124m  interfaces and operating systems.},\u001B[39m\n\u001B[0;32m    150\u001B[0m \u001B[38;5;124m  publisher = \u001B[39m\u001B[38;5;124m{\u001B[39m\u001B[38;5;124mIEEE COMPUTER SOC},\u001B[39m\n\u001B[0;32m    151\u001B[0m \u001B[38;5;124m  year      = 2007\u001B[39m\n\u001B[0;32m    152\u001B[0m \u001B[38;5;124m}\u001B[39m\u001B[38;5;124m\"\"\"\u001B[39m\n\u001B[0;32m    154\u001B[0m \u001B[38;5;66;03m# modelled after sys.version_info\u001B[39;00m\n\u001B[0;32m    155\u001B[0m _VersionInfo \u001B[38;5;241m=\u001B[39m namedtuple(\u001B[38;5;124m'\u001B[39m\u001B[38;5;124m_VersionInfo\u001B[39m\u001B[38;5;124m'\u001B[39m,\n\u001B[0;32m    156\u001B[0m                           \u001B[38;5;124m'\u001B[39m\u001B[38;5;124mmajor, minor, micro, releaselevel, serial\u001B[39m\u001B[38;5;124m'\u001B[39m)\n",
      "File \u001B[1;32mC:\\Program Files\\Miniconda3\\envs\\ai\\lib\\site-packages\\matplotlib\\rcsetup.py:27\u001B[0m\n\u001B[0;32m     25\u001B[0m \u001B[38;5;28;01mfrom\u001B[39;00m \u001B[38;5;21;01mmatplotlib\u001B[39;00m \u001B[38;5;28;01mimport\u001B[39;00m _api, cbook\n\u001B[0;32m     26\u001B[0m \u001B[38;5;28;01mfrom\u001B[39;00m \u001B[38;5;21;01mmatplotlib\u001B[39;00m\u001B[38;5;21;01m.\u001B[39;00m\u001B[38;5;21;01mcbook\u001B[39;00m \u001B[38;5;28;01mimport\u001B[39;00m ls_mapper\n\u001B[1;32m---> 27\u001B[0m \u001B[38;5;28;01mfrom\u001B[39;00m \u001B[38;5;21;01mmatplotlib\u001B[39;00m\u001B[38;5;21;01m.\u001B[39;00m\u001B[38;5;21;01mcolors\u001B[39;00m \u001B[38;5;28;01mimport\u001B[39;00m Colormap, is_color_like\n\u001B[0;32m     28\u001B[0m \u001B[38;5;28;01mfrom\u001B[39;00m \u001B[38;5;21;01mmatplotlib\u001B[39;00m\u001B[38;5;21;01m.\u001B[39;00m\u001B[38;5;21;01m_fontconfig_pattern\u001B[39;00m \u001B[38;5;28;01mimport\u001B[39;00m parse_fontconfig_pattern\n\u001B[0;32m     29\u001B[0m \u001B[38;5;28;01mfrom\u001B[39;00m \u001B[38;5;21;01mmatplotlib\u001B[39;00m\u001B[38;5;21;01m.\u001B[39;00m\u001B[38;5;21;01m_enums\u001B[39;00m \u001B[38;5;28;01mimport\u001B[39;00m JoinStyle, CapStyle\n",
      "File \u001B[1;32mC:\\Program Files\\Miniconda3\\envs\\ai\\lib\\site-packages\\matplotlib\\colors.py:51\u001B[0m\n\u001B[0;32m     49\u001B[0m \u001B[38;5;28;01mfrom\u001B[39;00m \u001B[38;5;21;01mnumbers\u001B[39;00m \u001B[38;5;28;01mimport\u001B[39;00m Number\n\u001B[0;32m     50\u001B[0m \u001B[38;5;28;01mimport\u001B[39;00m \u001B[38;5;21;01mre\u001B[39;00m\n\u001B[1;32m---> 51\u001B[0m \u001B[38;5;28;01mfrom\u001B[39;00m \u001B[38;5;21;01mPIL\u001B[39;00m \u001B[38;5;28;01mimport\u001B[39;00m Image\n\u001B[0;32m     52\u001B[0m \u001B[38;5;28;01mfrom\u001B[39;00m \u001B[38;5;21;01mPIL\u001B[39;00m\u001B[38;5;21;01m.\u001B[39;00m\u001B[38;5;21;01mPngImagePlugin\u001B[39;00m \u001B[38;5;28;01mimport\u001B[39;00m PngInfo\n\u001B[0;32m     54\u001B[0m \u001B[38;5;28;01mimport\u001B[39;00m \u001B[38;5;21;01mmatplotlib\u001B[39;00m \u001B[38;5;28;01mas\u001B[39;00m \u001B[38;5;21;01mmpl\u001B[39;00m\n",
      "File \u001B[1;32mC:\\Program Files\\Miniconda3\\envs\\ai\\lib\\site-packages\\PIL\\Image.py:111\u001B[0m\n\u001B[0;32m    105\u001B[0m     \u001B[38;5;28;01mif\u001B[39;00m __version__ \u001B[38;5;241m!=\u001B[39m \u001B[38;5;28mgetattr\u001B[39m(core, \u001B[38;5;124m\"\u001B[39m\u001B[38;5;124mPILLOW_VERSION\u001B[39m\u001B[38;5;124m\"\u001B[39m, \u001B[38;5;28;01mNone\u001B[39;00m):\n\u001B[0;32m    106\u001B[0m         msg \u001B[38;5;241m=\u001B[39m (\n\u001B[0;32m    107\u001B[0m             \u001B[38;5;124m\"\u001B[39m\u001B[38;5;124mThe _imaging extension was built for another version of Pillow or PIL:\u001B[39m\u001B[38;5;130;01m\\n\u001B[39;00m\u001B[38;5;124m\"\u001B[39m\n\u001B[0;32m    108\u001B[0m             \u001B[38;5;124mf\u001B[39m\u001B[38;5;124m\"\u001B[39m\u001B[38;5;124mCore version: \u001B[39m\u001B[38;5;132;01m{\u001B[39;00m\u001B[38;5;28mgetattr\u001B[39m(core, \u001B[38;5;124m'\u001B[39m\u001B[38;5;124mPILLOW_VERSION\u001B[39m\u001B[38;5;124m'\u001B[39m, \u001B[38;5;28;01mNone\u001B[39;00m)\u001B[38;5;132;01m}\u001B[39;00m\u001B[38;5;130;01m\\n\u001B[39;00m\u001B[38;5;124m\"\u001B[39m\n\u001B[0;32m    109\u001B[0m             \u001B[38;5;124mf\u001B[39m\u001B[38;5;124m\"\u001B[39m\u001B[38;5;124mPillow version: \u001B[39m\u001B[38;5;132;01m{\u001B[39;00m__version__\u001B[38;5;132;01m}\u001B[39;00m\u001B[38;5;124m\"\u001B[39m\n\u001B[0;32m    110\u001B[0m         )\n\u001B[1;32m--> 111\u001B[0m         \u001B[38;5;28;01mraise\u001B[39;00m \u001B[38;5;167;01mImportError\u001B[39;00m(msg)\n\u001B[0;32m    113\u001B[0m \u001B[38;5;28;01mexcept\u001B[39;00m \u001B[38;5;167;01mImportError\u001B[39;00m \u001B[38;5;28;01mas\u001B[39;00m v:\n\u001B[0;32m    114\u001B[0m     core \u001B[38;5;241m=\u001B[39m DeferredError(\u001B[38;5;167;01mImportError\u001B[39;00m(\u001B[38;5;124m\"\u001B[39m\u001B[38;5;124mThe _imaging C module is not installed.\u001B[39m\u001B[38;5;124m\"\u001B[39m))\n",
      "\u001B[1;31mImportError\u001B[0m: The _imaging extension was built for another version of Pillow or PIL:\nCore version: 9.5.0\nPillow version: 9.4.0"
     ]
    }
   ],
   "source": [
    "from enum import Enum\n",
    "import numpy as np\n",
    "import matplotlib.pyplot as plt\n",
    "# import seaborn as sns"
   ]
  },
  {
   "cell_type": "code",
   "execution_count": 80,
   "outputs": [
    {
     "data": {
      "text/plain": "(array([[      0,     100],\n        [    100,     500],\n        [    500,    1000],\n        [   1000,    5000],\n        [   5000,   10000],\n        [  10000,   50000],\n        [  50000,  100000],\n        [ 100000,  500000],\n        [ 500000, 1000000],\n        [1000000, 5000000]]),\n array([0.99, 0.9 , 0.8 , 0.7 , 0.6 , 0.5 , 0.4 , 0.3 , 0.2 , 0.1 ]))"
     },
     "execution_count": 80,
     "metadata": {},
     "output_type": "execute_result"
    }
   ],
   "source": [
    "REWARDS = np.array([\n",
    "    [0, 100],\n",
    "    [100, 500],\n",
    "    [500, 1000],\n",
    "    [1000, 5000],\n",
    "    [5000, 10000],\n",
    "    [10000, 50000],\n",
    "    [50000, 100000],\n",
    "    [100000, 500000],\n",
    "    [500000, 1000000],\n",
    "    [1000000, 5000000]\n",
    "])\n",
    "# REWARDS = np.array([\n",
    "#     [500, 100],\n",
    "#     [1000, 500],\n",
    "#     [5000, 1000],\n",
    "#     [10000, 5000],\n",
    "#     [50000, 10000],\n",
    "#     [100000, 50000],\n",
    "#     [500000, 100000],\n",
    "#     [1000000, 500000],\n",
    "#     [5000000, 1000000],\n",
    "#     [10000000, 5000000]\n",
    "# ])\n",
    "PROBABILITIES = np.array([\n",
    "    0.99, 0.9, 0.8, 0.7, 0.6, 0.5, 0.4, 0.3, 0.2, 0.1\n",
    "])\n",
    "REWARDS, PROBABILITIES"
   ],
   "metadata": {
    "collapsed": false,
    "ExecuteTime": {
     "start_time": "2023-04-23T18:15:29.332127Z",
     "end_time": "2023-04-23T18:15:29.347804Z"
    }
   }
  },
  {
   "cell_type": "code",
   "execution_count": 81,
   "outputs": [],
   "source": [
    "class ACTION(Enum):\n",
    "    PLAY = 0\n",
    "    QUIT = 1"
   ],
   "metadata": {
    "collapsed": false,
    "ExecuteTime": {
     "start_time": "2023-04-23T18:15:29.506130Z",
     "end_time": "2023-04-23T18:15:29.518119Z"
    }
   }
  },
  {
   "cell_type": "code",
   "execution_count": 82,
   "outputs": [],
   "source": [
    "class Game:\n",
    "    def __init__(self):\n",
    "        self.round = 0\n",
    "        self.reward = 0\n",
    "        self.finished = False\n",
    "\n",
    "    def play_move(self, action):\n",
    "        if action == ACTION.QUIT:\n",
    "            self.finished = True\n",
    "        elif action == ACTION.PLAY:\n",
    "            if np.random.random() < PROBABILITIES[self.round]:\n",
    "                self.reward += REWARDS[self.round][1]\n",
    "            else:\n",
    "                self.reward -= REWARDS[self.round][0]\n",
    "                self.finished = True\n",
    "\n",
    "            self.round += 1\n",
    "            if self.round == 10:\n",
    "                self.finished = True"
   ],
   "metadata": {
    "collapsed": false,
    "ExecuteTime": {
     "start_time": "2023-04-23T18:15:29.655077Z",
     "end_time": "2023-04-23T18:15:29.672305Z"
    }
   }
  },
  {
   "cell_type": "code",
   "execution_count": 83,
   "outputs": [],
   "source": [
    "game = Game()"
   ],
   "metadata": {
    "collapsed": false,
    "ExecuteTime": {
     "start_time": "2023-04-23T18:15:30.036924Z",
     "end_time": "2023-04-23T18:15:30.052552Z"
    }
   }
  },
  {
   "cell_type": "code",
   "execution_count": 84,
   "outputs": [],
   "source": [
    "def simulate_game():\n",
    "    game = Game()\n",
    "    while not game.finished:\n",
    "        game.play_move(ACTION.PLAY)\n",
    "    return game.reward, game.round"
   ],
   "metadata": {
    "collapsed": false,
    "ExecuteTime": {
     "start_time": "2023-04-23T18:15:30.397092Z",
     "end_time": "2023-04-23T18:15:30.403378Z"
    }
   }
  },
  {
   "cell_type": "code",
   "execution_count": 85,
   "outputs": [],
   "source": [
    "def monte_carlo_simulation(n):\n",
    "    rewards = np.zeros(n)\n",
    "    rounds = np.zeros(n)\n",
    "    for i in range(n):\n",
    "        rewards[i], rounds[i] = simulate_game()\n",
    "\n",
    "    # bins = np.arange(0, 10, 1)\n",
    "    # plt.hist(rounds, bins=bins)\n",
    "    return np.mean(rounds), np.std(rounds), np.min(rounds), np.max(rounds), np.median(rounds)"
   ],
   "metadata": {
    "collapsed": false,
    "ExecuteTime": {
     "start_time": "2023-04-23T18:15:30.555788Z",
     "end_time": "2023-04-23T18:15:30.571487Z"
    }
   }
  },
  {
   "cell_type": "code",
   "execution_count": 92,
   "outputs": [
    {
     "data": {
      "text/plain": "(4.61713, 1.7382579104091544, 1.0, 10.0, 4.0)"
     },
     "execution_count": 92,
     "metadata": {},
     "output_type": "execute_result"
    }
   ],
   "source": [
    "monte_carlo_simulation(100000)"
   ],
   "metadata": {
    "collapsed": false,
    "ExecuteTime": {
     "start_time": "2023-04-23T18:15:47.008799Z",
     "end_time": "2023-04-23T18:15:48.138519Z"
    }
   }
  },
  {
   "cell_type": "code",
   "execution_count": 88,
   "outputs": [
    {
     "data": {
      "text/plain": "array([[    0.        ,     0.        ],\n       [   99.        ,     0.        ],\n       [  534.6       ,     0.        ],\n       [ 1140.48      ,    17.82      ],\n       [ 3293.136     ,   128.304     ],\n       [ 4969.6416    ,   319.3344    ],\n       [ 9969.2208    ,   987.9408    ],\n       [ 9975.20832   ,  1490.89248   ],\n       [11973.842496  ,  2791.381824  ],\n       [ 5987.2804992 ,  2394.0499968 ],\n       [ 2394.98404992,  2155.29164928]])"
     },
     "execution_count": 88,
     "metadata": {},
     "output_type": "execute_result"
    }
   ],
   "source": [
    "avg_win_rewards = np.zeros((11, 2))\n",
    "\n",
    "for i in range(1, 11):\n",
    "    avg_win_rewards[i, 0] += np.sum(REWARDS[:i, 1])\n",
    "    avg_win_rewards[i, 0] *= np.product(PROBABILITIES[:i])\n",
    "    avg_win_rewards[i, 1] += np.sum(REWARDS[:i-1, 1]) - REWARDS[i-1, 0]\n",
    "    avg_win_rewards[i, 1] *= np.product(PROBABILITIES[:i-1]) * (1 - PROBABILITIES[i-1])\n",
    "\n",
    "avg_win_rewards"
   ],
   "metadata": {
    "collapsed": false,
    "ExecuteTime": {
     "start_time": "2023-04-23T18:15:31.887232Z",
     "end_time": "2023-04-23T18:15:31.937461Z"
    }
   }
  },
  {
   "cell_type": "code",
   "execution_count": 89,
   "outputs": [
    {
     "data": {
      "text/plain": "array([    0.    ,    99.    ,   534.6   ,  1158.3   ,  3439.26  ,\n        5435.1   , 11422.62  , 12919.5   , 17709.516 , 14117.004 ,\n       12679.9992])"
     },
     "execution_count": 89,
     "metadata": {},
     "output_type": "execute_result"
    }
   ],
   "source": [
    "avg_rewards = np.zeros(11)\n",
    "avg_rewards[0] = avg_win_rewards[0, 0]\n",
    "\n",
    "for i in range(1, 11):\n",
    "    avg_rewards[i] = avg_win_rewards[i, 0] + avg_win_rewards[i, 1] + np.sum(avg_win_rewards[:i, 1])\n",
    "\n",
    "avg_rewards"
   ],
   "metadata": {
    "collapsed": false,
    "ExecuteTime": {
     "start_time": "2023-04-23T18:15:32.917173Z",
     "end_time": "2023-04-23T18:15:32.933989Z"
    }
   }
  },
  {
   "cell_type": "code",
   "execution_count": 90,
   "outputs": [
    {
     "data": {
      "text/plain": "8"
     },
     "execution_count": 90,
     "metadata": {},
     "output_type": "execute_result"
    }
   ],
   "source": [
    "np.argmax(avg_rewards)"
   ],
   "metadata": {
    "collapsed": false,
    "ExecuteTime": {
     "start_time": "2023-04-23T18:15:33.965421Z",
     "end_time": "2023-04-23T18:15:33.966477Z"
    }
   }
  }
 ],
 "metadata": {
  "kernelspec": {
   "display_name": "Python 3",
   "language": "python",
   "name": "python3"
  },
  "language_info": {
   "codemirror_mode": {
    "name": "ipython",
    "version": 2
   },
   "file_extension": ".py",
   "mimetype": "text/x-python",
   "name": "python",
   "nbconvert_exporter": "python",
   "pygments_lexer": "ipython2",
   "version": "2.7.6"
  }
 },
 "nbformat": 4,
 "nbformat_minor": 0
}
