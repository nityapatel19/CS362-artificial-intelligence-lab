{
 "cells": [
  {
   "cell_type": "code",
   "execution_count": 74,
   "metadata": {
    "collapsed": true,
    "ExecuteTime": {
     "start_time": "2023-04-23T20:12:10.385950Z",
     "end_time": "2023-04-23T20:12:12.287736Z"
    }
   },
   "outputs": [],
   "source": [
    "from enum import Enum\n",
    "import numpy as np\n",
    "import matplotlib.pyplot as plt\n",
    "import seaborn as sns"
   ]
  },
  {
   "cell_type": "code",
   "execution_count": 75,
   "outputs": [
    {
     "data": {
      "text/plain": "(array([[      0,     100],\n        [    100,     500],\n        [    500,    1000],\n        [   1000,    5000],\n        [   5000,   10000],\n        [  10000,   50000],\n        [  50000,  100000],\n        [ 100000,  500000],\n        [ 500000, 1000000],\n        [1000000, 5000000]]),\n array([0.99, 0.9 , 0.8 , 0.7 , 0.6 , 0.5 , 0.4 , 0.3 , 0.2 , 0.1 ]))"
     },
     "execution_count": 75,
     "metadata": {},
     "output_type": "execute_result"
    }
   ],
   "source": [
    "REWARDS = np.array([\n",
    "    [0, 100],\n",
    "    [100, 500],\n",
    "    [500, 1000],\n",
    "    [1000, 5000],\n",
    "    [5000, 10000],\n",
    "    [10000, 50000],\n",
    "    [50000, 100000],\n",
    "    [100000, 500000],\n",
    "    [500000, 1000000],\n",
    "    [1000000, 5000000]\n",
    "])\n",
    "PROBABILITIES = np.array([\n",
    "    0.99, 0.9, 0.8, 0.7, 0.6, 0.5, 0.4, 0.3, 0.2, 0.1\n",
    "])\n",
    "REWARDS, PROBABILITIES"
   ],
   "metadata": {
    "collapsed": false,
    "ExecuteTime": {
     "start_time": "2023-04-23T20:12:12.291740Z",
     "end_time": "2023-04-23T20:12:12.303775Z"
    }
   }
  },
  {
   "cell_type": "code",
   "execution_count": 76,
   "outputs": [],
   "source": [
    "class ACTION(Enum):\n",
    "    PLAY = 0\n",
    "    QUIT = 1"
   ],
   "metadata": {
    "collapsed": false,
    "ExecuteTime": {
     "start_time": "2023-04-23T20:12:12.305796Z",
     "end_time": "2023-04-23T20:12:12.348075Z"
    }
   }
  },
  {
   "cell_type": "code",
   "execution_count": 77,
   "outputs": [],
   "source": [
    "class Game:\n",
    "    def __init__(self):\n",
    "        self.round = 0\n",
    "        self.reward = 0\n",
    "        self.finished = False\n",
    "\n",
    "    def play_move(self, action):\n",
    "        if action == ACTION.QUIT:\n",
    "            self.finished = True\n",
    "        elif action == ACTION.PLAY:\n",
    "            if np.random.random() < PROBABILITIES[self.round]:\n",
    "                self.reward += REWARDS[self.round][1]\n",
    "            else:\n",
    "                self.reward -= REWARDS[self.round][0]\n",
    "                self.finished = True\n",
    "\n",
    "            self.round += 1\n",
    "            if self.round == 10:\n",
    "                self.finished = True"
   ],
   "metadata": {
    "collapsed": false,
    "ExecuteTime": {
     "start_time": "2023-04-23T20:12:12.325077Z",
     "end_time": "2023-04-23T20:12:12.349096Z"
    }
   }
  },
  {
   "cell_type": "code",
   "execution_count": 78,
   "outputs": [],
   "source": [
    "game = Game()"
   ],
   "metadata": {
    "collapsed": false,
    "ExecuteTime": {
     "start_time": "2023-04-23T20:12:12.336079Z",
     "end_time": "2023-04-23T20:12:12.361071Z"
    }
   }
  },
  {
   "cell_type": "code",
   "execution_count": 97,
   "outputs": [],
   "source": [
    "def simulate_game():\n",
    "    game = Game()\n",
    "    while not game.finished:\n",
    "        game.play_move(ACTION.PLAY)\n",
    "    return game.reward, game.round"
   ],
   "metadata": {
    "collapsed": false,
    "ExecuteTime": {
     "start_time": "2023-04-23T20:18:08.025208Z",
     "end_time": "2023-04-23T20:18:08.038206Z"
    }
   }
  },
  {
   "cell_type": "code",
   "execution_count": 100,
   "outputs": [],
   "source": [
    "def monte_carlo_simulation(n):\n",
    "    rewards = np.zeros(n)\n",
    "    rounds = np.zeros(n)\n",
    "    for i in range(n):\n",
    "        rewards[i], rounds[i] = simulate_game()\n",
    "\n",
    "    bins = np.arange(0, 10, 1)\n",
    "    plt.hist(rounds, bins=bins)\n",
    "    return np.mean(rounds), np.std(rounds), np.min(rounds), np.max(rounds), np.median(rounds)"
   ],
   "metadata": {
    "collapsed": false,
    "ExecuteTime": {
     "start_time": "2023-04-23T20:20:23.829794Z",
     "end_time": "2023-04-23T20:20:23.853773Z"
    }
   }
  },
  {
   "cell_type": "code",
   "execution_count": 101,
   "outputs": [
    {
     "data": {
      "text/plain": "(4.61546, 1.742822133322847, 1.0, 10.0, 4.0)"
     },
     "execution_count": 101,
     "metadata": {},
     "output_type": "execute_result"
    },
    {
     "data": {
      "text/plain": "<Figure size 640x480 with 1 Axes>",
      "image/png": "[encoded data removed]"
     },
     "metadata": {},
     "output_type": "display_data"
    }
   ],
   "source": [
    "monte_carlo_simulation(100000)"
   ],
   "metadata": {
    "collapsed": false,
    "ExecuteTime": {
     "start_time": "2023-04-23T20:20:24.410735Z",
     "end_time": "2023-04-23T20:20:25.677044Z"
    }
   }
  },
  {
   "cell_type": "code",
   "execution_count": null,
   "outputs": [],
   "source": [],
   "metadata": {
    "collapsed": false
   }
  }
 ],
 "metadata": {
  "kernelspec": {
   "display_name": "Python 3",
   "language": "python",
   "name": "python3"
  },
  "language_info": {
   "codemirror_mode": {
    "name": "ipython",
    "version": 2
   },
   "file_extension": ".py",
   "mimetype": "text/x-python",
   "name": "python",
   "nbconvert_exporter": "python",
   "pygments_lexer": "ipython2",
   "version": "2.7.6"
  }
 },
 "nbformat": 4,
 "nbformat_minor": 0
}
